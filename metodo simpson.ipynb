{
 "cells": [
  {
   "cell_type": "markdown",
   "id": "35d8a80d-0ffc-472b-91b7-65d46bbec84f",
   "metadata": {},
   "source": [
    "<h1>Método de Simpson 1/3 em Python para Integração Numérica</h1>\n",
    "<table>\n",
    "  <tr>\n",
    "    <td><b>Aluno:</b></td><td>Gabriel A. Rocha (ragproggramer)</td>\n",
    "  </tr>\n",
    "  <tr>\n",
    "    <td><b>Turma:</b></td><td>3º Semestre Eng. Elétrica</td>\n",
    "  </tr>\n",
    "  <tr>\n",
    "    <td><b>Professor:</b></td><td>Leonardo</td>\n",
    "  </tr>\n",
    "  <tr>\n",
    "    <td><b>Data:</b></td><td>05/06/2025</td>\n",
    "  </tr>\n",
    "</table>\n",
    "<hr>\n",
    "\n",
    "### 🎯 Contexto do Problema: Calculando Energia a partir da Potência\n",
    "\n",
    "Neste notebook, abordamos um problema clássico da engenharia elétrica: **calcular a energia total consumida por um dispositivo ao longo do tempo, a partir de medições de sua potência instantânea.**\n",
    "\n",
    "Sabemos que a energia (E) é a integral da potência (P) em relação ao tempo (t):\n",
    "\n",
    "$E = \\int_{a}^{b} P(t) \\,dt$\n",
    "\n",
    "Como temos apenas pontos de dados discretos para a potência, não podemos resolver essa integral analiticamente. Precisamos, então, de um método de **integração numérica** para aproximar o valor da energia. Utilizaremos o **Método de Simpson 1/3**, que oferece excelente precisão.\n",
    "\n",
    "---\n",
    "\n",
    "## 👨‍🏫 O Método de Simpson 1/3\n",
    "\n",
    "### Introdução Teórica\n",
    "O **Método de Simpson 1/3** é uma técnica de integração numérica que aproxima o valor de uma integral definida. Sua principal vantagem sobre métodos mais simples (como a Regra do Trapézio) é o uso de **polinômios de segundo grau (parábolas)** para interpolar os pontos, em vez de retas. Isso resulta em uma aproximação muito mais precisa da área sob a curva.\n",
    "\n",
    "### 📚 Fundamentação Matemática\n",
    "A regra funciona dividindo o intervalo de integração `[a, b]` em um número **par** de subintervalos (`n`), cada um com largura `h`.\n",
    "\n",
    "A fórmula para a **Regra de Simpson 1/3 Composta** (usada para múltiplos subintervalos) é:\n",
    "\n",
    "$\n",
    "\\int_{a}^{b} f(x) \\,dx \\approx \\frac{h}{3} \\left[f(x_0) + 4\\sum_{i=1,3,5...}^{n-1} f(x_i) + 2\\sum_{i=2,4,6...}^{n-2} f(x_i) + f(x_n)\\right]\n",
    "$\n",
    "\n",
    "Onde:\n",
    "-   `[a, b]` é o intervalo de integração.\n",
    "-   `n` é o número de subintervalos (deve ser **par**).\n",
    "-   `h = (b - a) / n` é o tamanho de cada subintervalo (passo).\n",
    "-   `f(x_i)` são os valores da função nos pontos. Note os pesos:\n",
    "    -   Os pontos de índice **ímpar** são multiplicados por 4.\n",
    "    -   Os pontos de índice **par** (internos) são multiplicados por 2.\n",
    "    -   O primeiro e o último ponto são multiplicados por 1.\n",
    "\n",
    "### 📝 Pré-requisitos para a Aplicação do Método\n",
    "1.  O número de subintervalos (`n`) deve ser **par**.\n",
    "2.  Consequentemente, o número de pontos de dados deve ser **ímpar** (`n + 1`).\n",
    "3.  Os pontos de dados devem ser igualmente espaçados no eixo x (passo `h` constante).\n",
    "\n",
    "---\n",
    "\n",
    "## 💻 Implementação em Python\n",
    "\n",
    "Agora, vamos aplicar o método para resolver nosso problema.\n",
    "\n",
    "### 1️⃣ Definição dos Dados de Entrada\n",
    "\n",
    "Primeiro, definimos os dados do nosso problema em Python:\n",
    "-   `potencia`: Uma lista com as medições de potência (em Watts). Estes são os nossos valores `f(x_i)`.\n",
    "-   `a` e `b`: Os limites de tempo (em segundos) do nosso intervalo de integração.\n",
    "-   `n`: O número de subintervalos. Como temos 5 pontos de dados, temos `n = 4` subintervalos.\n",
    "-   `h`: O passo de tempo entre cada medição, calculado como `(b - a) / n`."
   ]
  },
  {
   "cell_type": "code",
   "execution_count": null,
   "id": "50acb051-e8be-4e13-99d0-847dd4d3f845",
   "metadata": {},
   "outputs": [
    {
     "name": "stdout",
     "output_type": "stream",
     "text": [
      "Dados de Potência (W): [0.0, 0.2, 0.7, 0.63, 0.19]\n",
      "Tamanho do Passo (h): 0.05 s\n"
     ]
    }
   ],
   "source": [
    "# Dados de entrada\n",
    "potencia = [0.00, 0.20, 0.70, 0.63, 0.19]\n",
    "a = 0.0       # Limite inferior (em segundos)\n",
    "b = 0.20      # Limite superior (em segundos)\n",
    "n = 4         # Número de subintervalos\n",
    "h = (b - a) / n # Tamanho do passo\n",
    "\n",
    "print(f\"Dados de Potência (W): {potencia}\")\n",
    "print(f\"Tamanho do Passo (h): {h} s\")\n"
   ]
  },
  {
   "cell_type": "markdown",
   "id": "0ea69a7b-8b53-4ba5-9931-deb37500f1d9",
   "metadata": {},
   "source": [
    "### 2️⃣ A Função `simpsons`\n",
    "\n",
    "A lógica do método é encapsulada na função `simpsons`. Vamos analisar suas partes principais:\n",
    "\n",
    "Esta implementação traduz diretamente a fórmula matemática do Método de Simpson para um código Python claro e eficiente."
   ]
  },
  {
   "cell_type": "code",
   "execution_count": 2,
   "id": "022b6bea-1436-4e31-8672-2d2f8a46692a",
   "metadata": {},
   "outputs": [],
   "source": [
    "def simpsons(h, y_vals):\n",
    "    \"\"\"Calcula a integral numérica de um conjunto de pontos de dados usando a Regra de Simpson 1/3.\"\"\"\n",
    "    num_pontos = len(y_vals)\n",
    "    num_intervalos = num_pontos - 1\n",
    "\n",
    "    # Pré-requisitos do método\n",
    "    if num_pontos < 3:\n",
    "        raise ValueError(\"A Regra de Simpson 1/3 requer pelo menos 3 pontos (2 subintervalos).\")\n",
    "    \n",
    "    if num_intervalos % 2 != 0:\n",
    "        raise ValueError(\"A Regra de Simpson 1/3 Composta requer um número PAR de subintervalos (ou seja, um número ÍMPAR de pontos de dados).\")\n",
    "\n",
    "    # Soma dos termos extremos (peso 1)\n",
    "    soma = y_vals[0] + y_vals[-1]\n",
    "\n",
    "    # Soma dos termos de índice ímpar (peso 4)\n",
    "    soma += 4 * sum(y_vals[i] for i in range(1, num_intervalos, 2))\n",
    "\n",
    "    # Soma dos termos de índice par (peso 2)\n",
    "    soma += 2 * sum(y_vals[i] for i in range(2, num_intervalos, 2))\n",
    "    \n",
    "    return (h / 3) * soma\n"
   ]
  },
  {
   "cell_type": "markdown",
   "id": "e3ffb082-ef65-45d7-8bd8-8ac927b7673e",
   "metadata": {},
   "source": [
    "### 3️⃣ Execução e Resultado Final\n",
    "\n",
    "Finalmente, chamamos a função `simpsons` com nossos dados de potência e o passo `h` para calcular a energia total.\n",
    "\n",
    "O resultado é apresentado em **Joules**, pois a integral de Potência (Watts ou Joules/segundo) pelo Tempo (segundos) resulta em Energia (Joules)."
   ]
  },
  {
   "cell_type": "code",
   "execution_count": 3,
   "id": "f48b98a8-1bf6-461d-8bab-44d67beaf90d",
   "metadata": {},
   "outputs": [
    {
     "name": "stdout",
     "output_type": "stream",
     "text": [
      "\n",
      "Energia Total Consumida (E): 0.08183 Joules\n"
     ]
    }
   ],
   "source": [
    "# Calcula a energia total chamando a função simpsons\n",
    "energia_total = simpsons(h, potencia)\n",
    "\n",
    "print(f\"\\nEnergia Total Consumida (E): {energia_total:.5f} Joules\")\n"
   ]
  }
 ],
 "metadata": {
  "kernelspec": {
   "display_name": "Python 3",
   "language": "python",
   "name": "python3"
  },
  "language_info": {
   "codemirror_mode": {
    "name": "ipython",
    "version": 3
   },
   "file_extension": ".py",
   "mimetype": "text/x-python",
   "name": "python",
   "nbconvert_exporter": "python",
   "pygments_lexer": "ipython3",
   "version": "3.13.3"
  }
 },
 "nbformat": 4,
 "nbformat_minor": 5
}
